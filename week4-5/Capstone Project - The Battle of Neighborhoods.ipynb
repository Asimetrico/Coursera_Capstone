{
 "cells": [
  {
   "cell_type": "markdown",
   "metadata": {},
   "source": [
    "<h1>Introduction (week 4)</h1>"
   ]
  },
  {
   "cell_type": "markdown",
   "metadata": {},
   "source": [
    "<h2>A.1. Description & Disscusion of the Background</h2>\n",
    "<p>\n",
    "The aim of this work is to predict the best locations in Barcelona for businesses related to the bicycle sector.\n",
    "</p>\n",
    "<p>\n",
    "For several years now, Barcelona, like other major European cities, has been committed to diversifying the mobility of citizens and the people who move around it from their daily vicinity. The aim of these public policies is to curb or at least mitigate the congestion of mobility in the city and avoid all negative effects.\n",
    "</p>\n",
    "<p>\n",
    "In the case of Barcelona, there has been an increase in public transport, although there is some debate as to whether this is enough. But there is no doubt that there has been a strong commitment on the part of the different governments and political sensitivities to promote the use of bicycles. From the creation of a public bicycle rental service to the creation of an extensive network of bicycle lanes. Part of these policies is explained in this <a href=\"http://ajuntament.barcelona.cat/bicicleta/en/opting-for-bicycles\" target=\"_blank\" >public website of the city</a>.\n",
    "</p>\n",
    "<p>\n",
    "This capstone would try to detect if these policies have made different businesses in the bicycle sector flourish in the city and use these data to determine the best areas to establish new businesses.<br>\n",
    "In order to establish a model that predicts a good location, it will be assumed that the existence of businesses in the sector and his location is due to profitability rather than a short-term trend. The analysis will also be limited to geographic data without taking into account other values such as demographics, purchasing power or orography. New mobility systems such as electric scooters will also not be taken into account. In the section 'Discussion' we will analyse what these decisions represent. \n",
    "\n",
    "</p>"
   ]
  },
  {
   "cell_type": "markdown",
   "metadata": {},
   "source": [
    "<h2>A.2 Data Description </h2>\n",
    "<p>\n",
    "Different data sources will be used to complete the work.\n",
    "    </p>\n",
    "    \n",
    "<p>\n",
    "One point to be decided by Barcelona to carry out this work is the commitment to the open data of the city, which publishes different types of data on different topics, including urban planning: <a href=\"https://opendata-ajuntament.barcelona.cat/en\" target=\"_blank\">Barcelona's open data service</a>\n",
    "</p>\n",
    "<p>\n",
    "From this portal the geopositioned data will be used to determine the organization in neighborhoods of the city, and if the models obtained support them, determine which are the best neighborhoods to set up a business. Using Folium the data is represented by:\n",
    "</p>\n",
    "<img src=\"https://raw.githubusercontent.com/Asimetrico/Coursera_Capstone/master/week4-5/bcn_neighbourhood.PNG\">\n",
    "\n",
    "<p>\n",
    "Link to dataset and field description: <a href=\"https://opendata-ajuntament.barcelona.cat/data/en/dataset/taula-direle\">City organization by neighbourhoods</a>\n",
    " </p>\n",
    " <p>\n",
    "It will also use data from existing bike lanes in the city. This data is also geopositioned. Using Folium the data is represented by:\n",
    "</p>\n",
    "<img src=\"https://raw.githubusercontent.com/Asimetrico/Coursera_Capstone/master/week4-5/bcn_bicyngrail.PNG\">\n",
    "<p>\n",
    "Link to dataset and field description: <a href=\"https://opendata-ajuntament.barcelona.cat/data/en/dataset/vies-ciclables\">Cycle paths in the city of Barcelona</a>\n",
    "</p>\n",
    "\n",
    "<p>\n",
    "For data referring to businesses and their segmentation by sector, the Foursquare API will be used, which allows us to obtain business data classified by categories that related to bicycling and located geographically. The categories in Foursquare related to business and bikes are:<br>\n",
    "    <ul>\n",
    "        <li>bike stores:  '4bf58dd8d48988d115951735' </li>\n",
    "        <li>renting bikes:'4e4c9077bd41f78e849722f9'</li>\n",
    "    </ul>\n",
    "</p>\n",
    "\n",
    "<p>\n",
    "   Using <a href=\"https://developer.foursquare.com/docs/api/venues/search\" target=\"_blank\"> the venues search api endpoint </a> it's possible to find by category venues.\n",
    "    \n",
    "    \n",
    "</p>\n",
    "<p>\n",
    "The list of venues categories can be found here: <a href=\"https://developer.foursquare.com/docs/resources/categories\" target=\"_blank\" >Foursquare categories</a>\n",
    "</p>\n",
    "<p>\n",
    "    An example of result of the API call can be seen here:<br>\n",
    "    <img src=\"https://raw.githubusercontent.com/Asimetrico/Coursera_Capstone/master/week4-5/bcn_foursquare.PNG\">\n",
    "    </p>\n",
    "<p>\n",
    "With these different data sources we will try to apply the different techniques to detect models that could predict a good location for new business.\n",
    "</p>\n",
    "\n",
    " "
   ]
  },
  {
   "cell_type": "markdown",
   "metadata": {},
   "source": []
  },
  {
   "cell_type": "markdown",
   "metadata": {},
   "source": [
    "<h2>B.Results section</h2>\n",
    "\n",
    "First of all, we must remember that initially it was proposed to include also bicycle rental venues but in the Foursquare data his mixed the public rental points and commercial venues. It could modify our results to find where it is best place to implement a business.  So finally only data from bicycle selling shops has been used.</p> \n",
    "<p> After processin the api results we have obtained 168 bike selling shops in Barcelona, which should be a fairly approximate figure of reality and perhaps we can think something small to create a model with good predictive capacity.\n",
    "\n",
    "After cleaning the data, a dataframe was obtained containing the number of shops and the average distance to a bicycle lane for each neighbourhood. Visually it is already visible that it will be difficult to find a model that helps our proposal:\n",
    "<img src=\"\">\n",
    "\n",
    "In the first instance we have tried to use a supervised model that would allow us to validate our model since we have the data that fit well within the supervised models.\n",
    "\n",
    "We have started by finding a linear or polynomial relationship in our data. Applying the models through SKLearn we see that in all of them the 'score' is negative, which tells us that \n",
    "the chosen model does not follow the trend of the data, so fits worse than a horizontal line. \n",
    "Due to this, these types of models have been discarded and have not been tested with methods such as Ridge or Lasso of this type of regressions. \n",
    "\n",
    "A logistic regression has also been tested and a score of 0.27 has been obtained. For these models the score is :action of correct predictions): correct predictions / total number of data points. Therefore the model does not allow us to corroborate our proposal.\n",
    "\n",
    "Finally it has been tested with an unsupervised K-Means method. The analysis of the clusters should serve to create a geographical segmentation that would allow us to see the existence of a relationship between the data obtained. \n",
    "\n",
    "After applying the elbow method it has been obtained that the optimal number of clusters is 3 and with this model three clusters have been created that have been able to draw on the map:\n",
    "\n",
    "In the first instance we see a separation based on geographical proximity (the dataframe contains the location of the centroid of each neighborhood) and vaguely the number of stores. \n",
    "\n",
    "Trying to determine if the segmentation is based on geography, a new dataframe has been created without the geographical data and a new cluster has been obtained that has a more irregular segmentation and that makes it even more complex to carry out an analysis.\n",
    "\n",
    "For all these reasons, our proposal to relate where the shops have been installed with respect to the existing cycle lanes in the city is discarded.\n"
   ]
  },
  {
   "cell_type": "markdown",
   "metadata": {},
   "source": [
    "<h2>C.Discussion section</h2>\n",
    "\n",
    "As has been said during the report, the model seems too simple. The main problems I detect are:\n",
    "\n",
    "<ul>\n",
    "<li>    \n",
    "An excessively simple model that does not take into account other options such as purchasing power, orography, population density or the floor price.<br/> \n",
    "    </li>\n",
    "    <li>\n",
    "The density of bicycle lanes would have been a better option than the average distance to a bicycle lane.<br/>\n",
    "<li>        \n",
    "The clusters created do not allow a clear segmentation of the results and it is difficult to establish useful for commercial purposes.<br/>\n",
    "    </li>    \n",
    "</ul>\n"
   ]
  },
  {
   "cell_type": "markdown",
   "metadata": {},
   "source": []
  },
  {
   "cell_type": "code",
   "execution_count": null,
   "metadata": {},
   "outputs": [],
   "source": []
  },
  {
   "cell_type": "markdown",
   "metadata": {},
   "source": [
    "<h2>E.Conclusions</h2>\n",
    "<p>\n",
    "After analysing the data, it seems that the proposed model is too basic to explain which is the best neighbourhood to set up a shop for the sale of bicycles according to the proximity of the existing bicycle lane. This model has also failed to define a segmentation that relates it to the density of shops in certain neighbourhoods.\n",
    "</p>\n",
    "<p>\n",
    "    We cannot aspire to find a simple relationship in the establishment of bicycle shops in Barcelona or in a weak version.  If it is necessary to improve the study several data have been proposed that could improve the options to find better models although, as it has been commented, the quantity of stores surely is small so that our model had predictive capacity.\n",
    "    </p>\n",
    "<p>\n",
    "If the data cannot be used in a more correct way than the one carried out, it is more likely that if the number of bicycle lanes in the city implies a growth of bicycle shops in an integral way without a concrete impact in certain geographical areas. \n",
    "</p>"
   ]
  }
 ],
 "metadata": {
  "kernelspec": {
   "display_name": "Python 3",
   "language": "python",
   "name": "python3"
  },
  "language_info": {
   "codemirror_mode": {
    "name": "ipython",
    "version": 3
   },
   "file_extension": ".py",
   "mimetype": "text/x-python",
   "name": "python",
   "nbconvert_exporter": "python",
   "pygments_lexer": "ipython3",
   "version": "3.7.3"
  }
 },
 "nbformat": 4,
 "nbformat_minor": 2
}
