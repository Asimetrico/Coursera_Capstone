{
 "cells": [
  {
   "cell_type": "markdown",
   "metadata": {},
   "source": [
    "<h1>Introduction (week 4)</h1>"
   ]
  },
  {
   "cell_type": "markdown",
   "metadata": {},
   "source": [
    "<h2>A.1. Description & Disscusion of the Background</h2>\n",
    "<p>\n",
    "The aim of this work is to predict the best locations in Barcelona for businesses related to the bicycle sector.\n",
    "</p>\n",
    "<p>\n",
    "For several years now, Barcelona, like other major European cities, has been committed to diversifying the mobility of citizens and the people who move around it from their daily vicinity. The aim of these public policies is to curb or at least mitigate the congestion of mobility in the city and avoid all negative effects.\n",
    "</p>\n",
    "<p>\n",
    "In the case of Barcelona, there has been an increase in public transport, although there is some debate as to whether this is enough. But there is no doubt that there has been a strong commitment on the part of the different governments and political sensitivities to promote the use of bicycles. From the creation of a public bicycle rental service to the creation of an extensive network of bicycle lanes. Part of these policies is explained in this <a href=\"http://ajuntament.barcelona.cat/bicicleta/en/opting-for-bicycles\" target=\"_blank\" >public website of the city</a>.\n",
    "</p>\n",
    "<p>\n",
    "This paper would try to detect if these policies have made different businesses in the bicycle sector flourish in the city and use these data to determine the best areas to establish new businesses.<br>\n",
    "In order to establish a model that predicts a good location, it will be assumed that the existence of businesses in the sector and his location is due to profitability rather than a short-term trend. The analysis will also be limited to geographic data without taking into account other values such as demographics, purchasing power or orography. New mobility systems such as electric scooters will also not be taken into account. In the section 'Discussion' we will analyse what these decisions represent. \n",
    "\n",
    "</p>"
   ]
  },
  {
   "cell_type": "markdown",
   "metadata": {},
   "source": [
    "<h2>A.2 Data Description </h2>\n",
    "<p>\n",
    "Different data sources will be used to complete the work.\n",
    "    </p>\n",
    "    \n",
    "<p>\n",
    "For the data referring to the urban organization of Barcelona the open data sources that the city has in will be used:\n",
    "<a href=\"https://opendata-ajuntament.barcelona.cat/en\" target=\"_blank\">Barcelona's open data service</a>\n",
    "</p>\n",
    "<p>\n",
    "From this portal the geopositioned data will be used to determine the organization in neighborhoods of the city, and if the models obtained support them, determine which are the best neighborhoods to set up a business.\n",
    "</p>\n",
    "<img src=\"https://raw.githubusercontent.com/Asimetrico/Coursera_Capstone/master/week4-5/bcn_neighbourhood.PNG\">\n",
    "\n",
    "<p>\n",
    "Link to dataset and field description: <a href=\"https://opendata-ajuntament.barcelona.cat/data/en/dataset/taula-direle\">City organization by neighbourhoods</a>\n",
    " </p>\n",
    " <p>\n",
    "It will also use data from existing bike lanes in the city to visualize where \n",
    "</p>\n",
    "<img src=\"https://raw.githubusercontent.com/Asimetrico/Coursera_Capstone/master/week4-5/bcn_bicyngrail.PNG\">\n",
    "<p>\n",
    "Link to dataset and field description: <a href=\"https://opendata-ajuntament.barcelona.cat/data/en/dataset/vies-ciclables\">Cycle paths in the city of Barcelona</a>\n",
    "</p>\n",
    "\n",
    "<p>\n",
    "For data referring to businesses and their segmentation by sector, the Foursquare API will be used, which allows us to obtain business data classified by categories that related to bicycling and located geographically. \n",
    "</p>\n",
    "<p>\n",
    "With these different data sources we will try to apply the different techniques to detect models that could predict a good location for new business.\n",
    "</p>\n",
    "\n",
    "\n",
    "</p>"
   ]
  },
  {
   "cell_type": "markdown",
   "metadata": {},
   "source": []
  },
  {
   "cell_type": "code",
   "execution_count": null,
   "metadata": {},
   "outputs": [],
   "source": []
  }
 ],
 "metadata": {
  "kernelspec": {
   "display_name": "Python 3",
   "language": "python",
   "name": "python3"
  },
  "language_info": {
   "codemirror_mode": {
    "name": "ipython",
    "version": 3
   },
   "file_extension": ".py",
   "mimetype": "text/x-python",
   "name": "python",
   "nbconvert_exporter": "python",
   "pygments_lexer": "ipython3",
   "version": "3.7.3"
  }
 },
 "nbformat": 4,
 "nbformat_minor": 2
}
