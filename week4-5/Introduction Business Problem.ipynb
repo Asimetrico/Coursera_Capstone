{
 "cells": [
  {
   "cell_type": "markdown",
   "metadata": {},
   "source": [
    "<h1>Introduction (week 4)</h1>"
   ]
  },
  {
   "cell_type": "markdown",
   "metadata": {},
   "source": [
    "<h2>A.1. Description & Disscusion of the Background</h2>\n",
    "<p>\n",
    "The aim of this work is to predict the best locations in Barcelona for businesses related to the bicycle sector.\n",
    "</p>\n",
    "<p>\n",
    "For several years now, Barcelona, like other major European cities, has been committed to diversifying the mobility of citizens and the people who move around it from their daily vicinity. The aim of these public policies is to curb or at least mitigate the congestion of mobility in the city and avoid all negative effects.\n",
    "</p>\n",
    "<p>\n",
    "In the case of Barcelona, there has been an increase in public transport, although there is some debate as to whether this is enough. But there is no doubt that there has been a strong commitment on the part of the different governments and political sensitivities to promote the use of bicycles. From the creation of a public bicycle rental service to the creation of an extensive network of bicycle lanes. Part of these policies is explained in this <a href=\"http://ajuntament.barcelona.cat/bicicleta/en/opting-for-bicycles\" target=\"_blank\" >public website of the city</a>.\n",
    "</p>\n",
    "<p>\n",
    "This capstone would try to detect if these policies have made different businesses in the bicycle sector flourish in the city and use these data to determine the best areas to establish new businesses.<br>\n",
    "In order to establish a model that predicts a good location, it will be assumed that the existence of businesses in the sector and his location is due to profitability rather than a short-term trend. The analysis will also be limited to geographic data without taking into account other values such as demographics, purchasing power or orography. New mobility systems such as electric scooters will also not be taken into account. In the section 'Discussion' we will analyse what these decisions represent. \n",
    "\n",
    "</p>"
   ]
  },
  {
   "cell_type": "code",
   "execution_count": null,
   "metadata": {},
   "outputs": [],
   "source": []
  }
 ],
 "metadata": {
  "kernelspec": {
   "display_name": "Python 3",
   "language": "python",
   "name": "python3"
  },
  "language_info": {
   "codemirror_mode": {
    "name": "ipython",
    "version": 3
   },
   "file_extension": ".py",
   "mimetype": "text/x-python",
   "name": "python",
   "nbconvert_exporter": "python",
   "pygments_lexer": "ipython3",
   "version": "3.7.3"
  }
 },
 "nbformat": 4,
 "nbformat_minor": 2
}
