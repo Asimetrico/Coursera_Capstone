{
 "cells": [
  {
   "cell_type": "markdown",
   "metadata": {},
   "source": [
    "<h1>Ex 1 week3</h1>\n",
    "<p>Extract from <a href=\"https://en.wikipedia.org/wiki/List_of_postal_codes_of_Canada:_M\">link wiki </a> postalcode data and format dataframe:"
   ]
  },
  {
   "cell_type": "code",
   "execution_count": 1,
   "metadata": {},
   "outputs": [
    {
     "name": "stdout",
     "output_type": "stream",
     "text": [
      "Libraries imported.\n"
     ]
    }
   ],
   "source": [
    "import random # library for random number generation\n",
    "import numpy as np # library for vectorized computation\n",
    "import pandas as pd # library to process data as dataframes\n",
    "\n",
    "import matplotlib.pyplot as plt # plotting library\n",
    "# backend for rendering plots within the browser\n",
    "%matplotlib inline \n",
    "\n",
    "from sklearn.cluster import KMeans \n",
    "from sklearn.datasets.samples_generator import make_blobs\n",
    "\n",
    "import requests \n",
    "from bs4 import BeautifulSoup\n",
    "\n",
    "\n",
    "print('Libraries imported.')"
   ]
  },
  {
   "cell_type": "code",
   "execution_count": 2,
   "metadata": {},
   "outputs": [
    {
     "data": {
      "text/plain": [
       "<Response [200]>"
      ]
     },
     "execution_count": 2,
     "metadata": {},
     "output_type": "execute_result"
    }
   ],
   "source": [
    "#get wiki page content\n",
    "page = requests.get(\"https://en.wikipedia.org/wiki/List_of_postal_codes_of_Canada:_M\")\n",
    "page"
   ]
  },
  {
   "cell_type": "code",
   "execution_count": 4,
   "metadata": {},
   "outputs": [
    {
     "data": {
      "text/html": [
       "<div>\n",
       "<style scoped>\n",
       "    .dataframe tbody tr th:only-of-type {\n",
       "        vertical-align: middle;\n",
       "    }\n",
       "\n",
       "    .dataframe tbody tr th {\n",
       "        vertical-align: top;\n",
       "    }\n",
       "\n",
       "    .dataframe thead th {\n",
       "        text-align: right;\n",
       "    }\n",
       "</style>\n",
       "<table border=\"1\" class=\"dataframe\">\n",
       "  <thead>\n",
       "    <tr style=\"text-align: right;\">\n",
       "      <th></th>\n",
       "      <th>PostalCode</th>\n",
       "      <th>Borough</th>\n",
       "      <th>Neighbourhood</th>\n",
       "    </tr>\n",
       "  </thead>\n",
       "  <tbody>\n",
       "    <tr>\n",
       "      <th>0</th>\n",
       "      <td>M3A</td>\n",
       "      <td>North York</td>\n",
       "      <td>Parkwoods</td>\n",
       "    </tr>\n",
       "    <tr>\n",
       "      <th>1</th>\n",
       "      <td>M4A</td>\n",
       "      <td>North York</td>\n",
       "      <td>Victoria Village</td>\n",
       "    </tr>\n",
       "    <tr>\n",
       "      <th>2</th>\n",
       "      <td>M5A</td>\n",
       "      <td>Downtown Toronto</td>\n",
       "      <td>Harbourfront, Regent Park</td>\n",
       "    </tr>\n",
       "    <tr>\n",
       "      <th>3</th>\n",
       "      <td>M6A</td>\n",
       "      <td>North York</td>\n",
       "      <td>Lawrence Heights, Lawrence Manor</td>\n",
       "    </tr>\n",
       "    <tr>\n",
       "      <th>4</th>\n",
       "      <td>M7A</td>\n",
       "      <td>Queen's Park</td>\n",
       "      <td>Queen's Park</td>\n",
       "    </tr>\n",
       "  </tbody>\n",
       "</table>\n",
       "</div>"
      ],
      "text/plain": [
       "  PostalCode           Borough                     Neighbourhood\n",
       "0        M3A        North York                         Parkwoods\n",
       "1        M4A        North York                  Victoria Village\n",
       "2        M5A  Downtown Toronto         Harbourfront, Regent Park\n",
       "3        M6A        North York  Lawrence Heights, Lawrence Manor\n",
       "4        M7A      Queen's Park                      Queen's Park"
      ]
     },
     "execution_count": 4,
     "metadata": {},
     "output_type": "execute_result"
    }
   ],
   "source": [
    "#get table content using selector '#mw-content-text > div > table.wikitable.sortable.jquery-tablesorter > tbody'\n",
    "soup = BeautifulSoup(page.content, \"lxml\")\n",
    "\n",
    "#get all html tables\n",
    "tables = soup.findChildren('table')\n",
    "\n",
    "#we get the first table wich coints canada data\n",
    "rows = tables[0].findChildren(['tr'])\n",
    "\n",
    "#create the dataframe\n",
    "df = pd.DataFrame(columns=['PostalCode', 'Borough', 'Neighbourhood'])\n",
    "\n",
    "#looping tr and td to feed the dataframe\n",
    "for tr in tables[0].find_all('tr'):  \n",
    "    tds = tr.select('td')\n",
    "    # \n",
    "    if tds and tds[1].get_text() != 'Not assigned':\n",
    "        #set not assigned neighbourhood\n",
    "        neighbour = (tds[2].get_text().rstrip())  if (tds[2].get_text().rstrip() != 'Not assigned') else (tds[1].get_text().rstrip())\n",
    "        \n",
    "        #if not exist yet postalcode in the dataframe we insert using appen, if not we conctat\n",
    "        if (len(df[df['PostalCode']==tds[0].get_text()]) == 0):\n",
    "            df = df.append({'PostalCode':tds[0].get_text(), 'Borough':tds[1].get_text(), 'Neighbourhood':neighbour}, ignore_index=True)   \n",
    "        else:           \n",
    "            df.loc[df['PostalCode'] == tds[0].get_text(), 'Neighbourhood'] += ', '+neighbour;\n",
    "\n",
    "            \n",
    "#first items display\n",
    "df.head()  \n",
    "\n",
    "\n",
    "\n"
   ]
  },
  {
   "cell_type": "code",
   "execution_count": 6,
   "metadata": {},
   "outputs": [
    {
     "name": "stdout",
     "output_type": "stream",
     "text": [
      "(103, 3)\n"
     ]
    }
   ],
   "source": [
    "#dataframe shape\n",
    "print(df.shape)"
   ]
  },
  {
   "cell_type": "code",
   "execution_count": null,
   "metadata": {},
   "outputs": [],
   "source": []
  }
 ],
 "metadata": {
  "kernelspec": {
   "display_name": "Python 3",
   "language": "python",
   "name": "python3"
  },
  "language_info": {
   "codemirror_mode": {
    "name": "ipython",
    "version": 3
   },
   "file_extension": ".py",
   "mimetype": "text/x-python",
   "name": "python",
   "nbconvert_exporter": "python",
   "pygments_lexer": "ipython3",
   "version": "3.7.3"
  }
 },
 "nbformat": 4,
 "nbformat_minor": 2
}
